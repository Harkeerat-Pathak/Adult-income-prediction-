{
  "nbformat": 4,
  "nbformat_minor": 0,
  "metadata": {
    "colab": {
      "provenance": [],
      "toc_visible": true,
      "include_colab_link": true
    },
    "kernelspec": {
      "display_name": "Python 3",
      "name": "python3"
    }
  },
  "cells": [
    {
      "cell_type": "markdown",
      "metadata": {
        "id": "view-in-github",
        "colab_type": "text"
      },
      "source": [
        "<a href=\"https://colab.research.google.com/github/Harkeerat-Pathak/Adult-income-prediction-/blob/main/DS_week1_solved(1).ipynb\" target=\"_parent\"><img src=\"https://colab.research.google.com/assets/colab-badge.svg\" alt=\"Open In Colab\"/></a>"
      ]
    },
    {
      "cell_type": "markdown",
      "metadata": {
        "id": "N-usDSKdzzuC"
      },
      "source": [
        "# **Assignment 1: The data life cycle + Summary statistics**\n",
        "\n",
        "In this week's assignment we will review the data life cycle with a particular application, as well as review some practical and fundamental concepts of statistics."
      ]
    },
    {
      "cell_type": "markdown",
      "metadata": {
        "id": "grLUOWYm8gLi"
      },
      "source": [
        "## **Description**\n",
        "\n",
        "An individual’s annual income results from various factors. Intuitively, it is influenced by the individual’s education level, age, gender, occupation, and etc."
      ]
    },
    {
      "cell_type": "markdown",
      "metadata": {
        "id": "CVUmsxiOs1Oi"
      },
      "source": [
        "## **Exercise 1: Data life cycle**\n",
        "\n",
        "To study the relationship of different variables to the annual income of worldwide workers, you will need to design the entire data plan for the project.\n",
        "\n",
        "This plan should cover everything from the mechanisms that will be used to collect data from workers, the storage architectures, the identification of errors or inconsistencies that we foresee may occur more frequently, and the specific question we want to answer. The plan will end once the solution to the main goal is obtained and the results have been shared.\n",
        "\n",
        "Describe all the individual phases your data project should follow and give a brief description of the technical details in each phase. You should customize each phase to the proposed dataset and problem."
      ]
    },
    {
      "cell_type": "markdown",
      "metadata": {
        "id": "Z0I7IV0uurV0"
      },
      "source": [
        "**[Solution]**\n",
        "\n",
        "Check that all phases of the data life cycle are mentioned. All phases must describe the specific processes used for the proposed case.\n",
        "\n",
        "The processes described are unambiguous, especially in the phases of question proposal, data collection and publication/resolution."
      ]
    },
    {
      "cell_type": "markdown",
      "metadata": {
        "id": "XUcO8j-I21_e"
      },
      "source": [
        "## **Exercise 2: Central tendency and dispersion**\n",
        "\n",
        "Once the data has been collected and preprocessed, we are interested in knowing what workers are paid according to different dimensions: their age, their job position, their level of education, ... To do this, it is necessary to use some statistical metrics such as central tendency and dispersion.\n",
        "\n",
        "We start by loading the dataset we will be working with. Remember that in order to start working with Google Colab you must **Connect to a runtime environment**.\n",
        "\n",
        "Then you must go to the **Files** folder (in the left panel), where you must upload the csv attached to this assignment."
      ]
    },
    {
      "cell_type": "code",
      "metadata": {
        "id": "oopeOfes3prz"
      },
      "source": [
        "import pandas as pd\n",
        "dataset = pd.read_csv('adult.csv')"
      ],
      "execution_count": null,
      "outputs": []
    },
    {
      "cell_type": "markdown",
      "metadata": {
        "id": "pX845cQQ4XLY"
      },
      "source": [
        "**Exercise:** Make a brief preliminar inspection of the dataset, indicating the number of records, the number of descriptors, and the name of the descriptors. If you identify a descriptor that should not appear in the dataset, remove it."
      ]
    },
    {
      "cell_type": "code",
      "metadata": {
        "id": "k9DMAsBe4Tni",
        "colab": {
          "base_uri": "https://localhost:8080/"
        },
        "outputId": "45678655-5b7a-4fb0-fd0f-5127f66bb87b"
      },
      "source": [
        "# Your answer here\n",
        "print('Dataset has {} records and {} descriptors'.format(*dataset.shape))\n",
        "print(dataset.columns)"
      ],
      "execution_count": null,
      "outputs": [
        {
          "output_type": "stream",
          "text": [
            "Dataset has 48842 records and 15 descriptors\n",
            "Index(['age', 'workclass', 'fnlwgt', 'education', 'educational-num',\n",
            "       'marital-status', 'occupation', 'relationship', 'race', 'gender',\n",
            "       'capital-gain', 'capital-loss', 'hours-per-week', 'native-country',\n",
            "       'income'],\n",
            "      dtype='object')\n"
          ],
          "name": "stdout"
        }
      ]
    },
    {
      "cell_type": "markdown",
      "metadata": {
        "id": "jTYu21CxGrhu"
      },
      "source": [
        "**Exercise:** Show a random selection of some records from the dataset. This will help you to perform a preliminary visual inspection to confirm that the data has been loaded correctly."
      ]
    },
    {
      "cell_type": "code",
      "metadata": {
        "id": "-tXKivwqGm62",
        "colab": {
          "base_uri": "https://localhost:8080/"
        },
        "outputId": "b214145c-34c0-4517-c2ac-ca5395322f21"
      },
      "source": [
        "# Your answer here\n",
        "print(dataset.iloc[0])"
      ],
      "execution_count": null,
      "outputs": [
        {
          "output_type": "stream",
          "text": [
            "age                               25\n",
            "workclass                    Private\n",
            "fnlwgt                        226802\n",
            "education                       11th\n",
            "educational-num                    7\n",
            "marital-status         Never-married\n",
            "occupation         Machine-op-inspct\n",
            "relationship               Own-child\n",
            "race                           Black\n",
            "gender                          Male\n",
            "capital-gain                       0\n",
            "capital-loss                       0\n",
            "hours-per-week                    40\n",
            "native-country         United-States\n",
            "income                         <=50K\n",
            "Name: 0, dtype: object\n"
          ],
          "name": "stdout"
        }
      ]
    },
    {
      "cell_type": "markdown",
      "metadata": {
        "id": "Nuu1y3anRA3G"
      },
      "source": [
        "To determine the mean, median, and standard deviation for the descriptors of a quantitative nature we will use the _describe()_ method on pandas DataFrame object."
      ]
    },
    {
      "cell_type": "code",
      "metadata": {
        "id": "I4ICrZ1bRPeE",
        "colab": {
          "base_uri": "https://localhost:8080/",
          "height": 300
        },
        "outputId": "093192f4-bc94-48a3-bc15-8fc965ea2d21"
      },
      "source": [
        "dataset.describe()"
      ],
      "execution_count": null,
      "outputs": [
        {
          "output_type": "execute_result",
          "data": {
            "text/html": [
              "<div>\n",
              "<style scoped>\n",
              "    .dataframe tbody tr th:only-of-type {\n",
              "        vertical-align: middle;\n",
              "    }\n",
              "\n",
              "    .dataframe tbody tr th {\n",
              "        vertical-align: top;\n",
              "    }\n",
              "\n",
              "    .dataframe thead th {\n",
              "        text-align: right;\n",
              "    }\n",
              "</style>\n",
              "<table border=\"1\" class=\"dataframe\">\n",
              "  <thead>\n",
              "    <tr style=\"text-align: right;\">\n",
              "      <th></th>\n",
              "      <th>age</th>\n",
              "      <th>fnlwgt</th>\n",
              "      <th>educational-num</th>\n",
              "      <th>capital-gain</th>\n",
              "      <th>capital-loss</th>\n",
              "      <th>hours-per-week</th>\n",
              "    </tr>\n",
              "  </thead>\n",
              "  <tbody>\n",
              "    <tr>\n",
              "      <th>count</th>\n",
              "      <td>48842.000000</td>\n",
              "      <td>4.884200e+04</td>\n",
              "      <td>48842.000000</td>\n",
              "      <td>48842.000000</td>\n",
              "      <td>48842.000000</td>\n",
              "      <td>48842.000000</td>\n",
              "    </tr>\n",
              "    <tr>\n",
              "      <th>mean</th>\n",
              "      <td>38.643585</td>\n",
              "      <td>1.896641e+05</td>\n",
              "      <td>10.078089</td>\n",
              "      <td>1079.067626</td>\n",
              "      <td>87.502314</td>\n",
              "      <td>40.422382</td>\n",
              "    </tr>\n",
              "    <tr>\n",
              "      <th>std</th>\n",
              "      <td>13.710510</td>\n",
              "      <td>1.056040e+05</td>\n",
              "      <td>2.570973</td>\n",
              "      <td>7452.019058</td>\n",
              "      <td>403.004552</td>\n",
              "      <td>12.391444</td>\n",
              "    </tr>\n",
              "    <tr>\n",
              "      <th>min</th>\n",
              "      <td>17.000000</td>\n",
              "      <td>1.228500e+04</td>\n",
              "      <td>1.000000</td>\n",
              "      <td>0.000000</td>\n",
              "      <td>0.000000</td>\n",
              "      <td>1.000000</td>\n",
              "    </tr>\n",
              "    <tr>\n",
              "      <th>25%</th>\n",
              "      <td>28.000000</td>\n",
              "      <td>1.175505e+05</td>\n",
              "      <td>9.000000</td>\n",
              "      <td>0.000000</td>\n",
              "      <td>0.000000</td>\n",
              "      <td>40.000000</td>\n",
              "    </tr>\n",
              "    <tr>\n",
              "      <th>50%</th>\n",
              "      <td>37.000000</td>\n",
              "      <td>1.781445e+05</td>\n",
              "      <td>10.000000</td>\n",
              "      <td>0.000000</td>\n",
              "      <td>0.000000</td>\n",
              "      <td>40.000000</td>\n",
              "    </tr>\n",
              "    <tr>\n",
              "      <th>75%</th>\n",
              "      <td>48.000000</td>\n",
              "      <td>2.376420e+05</td>\n",
              "      <td>12.000000</td>\n",
              "      <td>0.000000</td>\n",
              "      <td>0.000000</td>\n",
              "      <td>45.000000</td>\n",
              "    </tr>\n",
              "    <tr>\n",
              "      <th>max</th>\n",
              "      <td>90.000000</td>\n",
              "      <td>1.490400e+06</td>\n",
              "      <td>16.000000</td>\n",
              "      <td>99999.000000</td>\n",
              "      <td>4356.000000</td>\n",
              "      <td>99.000000</td>\n",
              "    </tr>\n",
              "  </tbody>\n",
              "</table>\n",
              "</div>"
            ],
            "text/plain": [
              "                age        fnlwgt  ...  capital-loss  hours-per-week\n",
              "count  48842.000000  4.884200e+04  ...  48842.000000    48842.000000\n",
              "mean      38.643585  1.896641e+05  ...     87.502314       40.422382\n",
              "std       13.710510  1.056040e+05  ...    403.004552       12.391444\n",
              "min       17.000000  1.228500e+04  ...      0.000000        1.000000\n",
              "25%       28.000000  1.175505e+05  ...      0.000000       40.000000\n",
              "50%       37.000000  1.781445e+05  ...      0.000000       40.000000\n",
              "75%       48.000000  2.376420e+05  ...      0.000000       45.000000\n",
              "max       90.000000  1.490400e+06  ...   4356.000000       99.000000\n",
              "\n",
              "[8 rows x 6 columns]"
            ]
          },
          "metadata": {
            "tags": []
          },
          "execution_count": 12
        }
      ]
    },
    {
      "cell_type": "markdown",
      "metadata": {
        "id": "qBKFuBTWwYrR"
      },
      "source": [
        "The 50% attribute indicates the value located in the ordered half of the attribute, which is associated with the median.\n",
        "\n",
        "Note that for the **capital-gain** and **capital-loss** attributes the mean and median values (both central tendency values) are very different.\n",
        "\n",
        "**Exercise:** What is the reason for this difference?\n",
        "\n",
        "**Hint:** You may find it useful to visualize the ordered values of these variables."
      ]
    },
    {
      "cell_type": "markdown",
      "metadata": {
        "id": "hJTK0ayVw6kY"
      },
      "source": [
        "**[Solution]**\n",
        "\n",
        "The value of these descriptors is 0 for more than half of the records. This value probably tries to indicate the missing values of the variables. For this reason the central value (the median) is 0. However, the mean takes into account all the values, making its value higher."
      ]
    },
    {
      "cell_type": "code",
      "metadata": {
        "colab": {
          "base_uri": "https://localhost:8080/"
        },
        "id": "An2JiZhxkMCw",
        "outputId": "0bc62497-3ccd-4090-fe61-7215113e24af"
      },
      "source": [
        "dataset['capital-gain'].value_counts()"
      ],
      "execution_count": null,
      "outputs": [
        {
          "output_type": "execute_result",
          "data": {
            "text/plain": [
              "0        44807\n",
              "15024      513\n",
              "7688       410\n",
              "7298       364\n",
              "99999      244\n",
              "         ...  \n",
              "2387         1\n",
              "22040        1\n",
              "6612         1\n",
              "1111         1\n",
              "1639         1\n",
              "Name: capital-gain, Length: 123, dtype: int64"
            ]
          },
          "metadata": {
            "tags": []
          },
          "execution_count": 39
        }
      ]
    },
    {
      "cell_type": "code",
      "metadata": {
        "colab": {
          "base_uri": "https://localhost:8080/"
        },
        "id": "JjeY9uGkkUid",
        "outputId": "fc7a9c35-e9e8-452f-9b0b-94792e5b5a17"
      },
      "source": [
        "dataset['capital-loss'].value_counts()"
      ],
      "execution_count": null,
      "outputs": [
        {
          "output_type": "execute_result",
          "data": {
            "text/plain": [
              "0       46560\n",
              "1902      304\n",
              "1977      253\n",
              "1887      233\n",
              "2415       72\n",
              "        ...  \n",
              "1539        1\n",
              "2489        1\n",
              "2201        1\n",
              "1421        1\n",
              "1870        1\n",
              "Name: capital-loss, Length: 99, dtype: int64"
            ]
          },
          "metadata": {
            "tags": []
          },
          "execution_count": 37
        }
      ]
    },
    {
      "cell_type": "markdown",
      "metadata": {
        "id": "zxGy9lhVyJAj"
      },
      "source": [
        "**Exercise:** What is the mean and standard deviation of the **capital-gain** attribute as a function of the worker's level of education? Order the results by educational level (you may use the **educational-num** descriptor) and interpret the results obtained.\n",
        "\n",
        "**Hint:** Use the _groupby()_ method of the pandas DataFrame object. "
      ]
    },
    {
      "cell_type": "code",
      "metadata": {
        "id": "Yw2hIvcMxLk9",
        "colab": {
          "base_uri": "https://localhost:8080/"
        },
        "outputId": "993de825-0a3f-4f13-f49e-32c889b98250"
      },
      "source": [
        "# Solution\n",
        "dataset.groupby('educational-num')['capital-gain'].mean()"
      ],
      "execution_count": null,
      "outputs": [
        {
          "output_type": "execute_result",
          "data": {
            "text/plain": [
              "educational-num\n",
              "1       732.000000\n",
              "2       123.591093\n",
              "3       360.365422\n",
              "4       242.626178\n",
              "5       313.398148\n",
              "6       323.049676\n",
              "7       203.739514\n",
              "8       208.579909\n",
              "9       573.314179\n",
              "10      559.961574\n",
              "11      778.602135\n",
              "12      636.951905\n",
              "13     1762.564984\n",
              "14     2583.605947\n",
              "15    10586.467626\n",
              "16     5727.769360\n",
              "Name: capital-gain, dtype: float64"
            ]
          },
          "metadata": {
            "tags": []
          },
          "execution_count": 43
        }
      ]
    },
    {
      "cell_type": "code",
      "metadata": {
        "colab": {
          "base_uri": "https://localhost:8080/"
        },
        "id": "Ru6-HcG8kp4i",
        "outputId": "c3004b66-1fd2-457e-9f38-294f0a8f61d2"
      },
      "source": [
        "dataset.groupby('educational-num')['capital-gain'].std()"
      ],
      "execution_count": null,
      "outputs": [
        {
          "output_type": "execute_result",
          "data": {
            "text/plain": [
              "educational-num\n",
              "1      4798.968314\n",
              "2       750.627866\n",
              "3      4512.388159\n",
              "4      1030.560526\n",
              "5      3736.769093\n",
              "6      4106.377612\n",
              "7      1191.285890\n",
              "8      1383.857230\n",
              "9      4952.769963\n",
              "10     4474.465161\n",
              "11     4513.887224\n",
              "12     3511.958827\n",
              "13     9356.415141\n",
              "14    11248.829635\n",
              "15    27261.781745\n",
              "16    19570.677258\n",
              "Name: capital-gain, dtype: float64"
            ]
          },
          "metadata": {
            "tags": []
          },
          "execution_count": 44
        }
      ]
    },
    {
      "cell_type": "markdown",
      "metadata": {
        "id": "YYVAPaRZywDs"
      },
      "source": [
        "As the level of education increases, so does the capital gain. The 14th level of studies is the one that grants the highest average.\n",
        "\n",
        "Similarly, there is a trend that indicates that higher levels of education move in a more dispersed capital gain (they are more prepared to carry out both low-paid and well-paid jobs, depending on the opportunities they receive)."
      ]
    },
    {
      "cell_type": "markdown",
      "metadata": {
        "id": "93uw-CH8z_xu"
      },
      "source": [
        "## **Exercise 3: Unconditional probability**\n",
        "\n",
        "For all of the following exercises, the calculation of probabilities should be automatic and adaptive to the increase or decrease of records in the dataset.\n",
        "\n",
        "**Exercise:** What is the probability that a worker randomly chosen from the dataset is a black male and earns more than 50k per year?"
      ]
    },
    {
      "cell_type": "code",
      "metadata": {
        "id": "Ah3jOEZI0s_2",
        "colab": {
          "base_uri": "https://localhost:8080/"
        },
        "outputId": "8e0f2362-39d6-4270-d49f-4cc0e0407295"
      },
      "source": [
        "# Solution\n",
        "num_total = dataset.shape[0]\n",
        "num_group = dataset[(dataset['gender'] == 'Male') &\n",
        "                    (dataset['race'] == 'Black') &\n",
        "                    (dataset['income'] == '>50K')].shape[0]\n",
        "\n",
        "print(num_group / num_total)"
      ],
      "execution_count": null,
      "outputs": [
        {
          "output_type": "stream",
          "text": [
            "0.008885795012489251\n"
          ],
          "name": "stdout"
        }
      ]
    },
    {
      "cell_type": "markdown",
      "metadata": {
        "id": "VAVIPHHXme6u"
      },
      "source": [
        "[0.89% of the records in the dataset are black men earning more than 50k per year. This is the probability that a randomly chosen record meets these criteria."
      ]
    },
    {
      "cell_type": "markdown",
      "metadata": {
        "id": "FVsZd83o0__S"
      },
      "source": [
        "**Exercise:** What is the probability that a worker randomly chosen from the dataset is a female under 30 years old, married, and earns less than 50k per year?"
      ]
    },
    {
      "cell_type": "code",
      "metadata": {
        "id": "RbEO1r7f1sXZ",
        "colab": {
          "base_uri": "https://localhost:8080/"
        },
        "outputId": "ef48b4df-568f-44bf-eaec-c8e8ff5a115a"
      },
      "source": [
        "# Solution\n",
        "num_total = dataset.shape[0]\n",
        "num_group = dataset[(dataset['gender'] == 'Female') &\n",
        "                    (dataset['age'] < 30) &\n",
        "                    ((dataset['marital-status'] == 'Married-civ-spouse') |\n",
        "                     (dataset['marital-status'] == 'Married-AF-spouse') |\n",
        "                     (dataset['marital-status'] == 'Married-spouse-absent')) &\n",
        "                    (dataset['income'] == '<=50K')].shape[0]\n",
        "\n",
        "print(num_group / num_total)"
      ],
      "execution_count": null,
      "outputs": [
        {
          "output_type": "stream",
          "text": [
            "0.009766184840915605\n"
          ],
          "name": "stdout"
        }
      ]
    },
    {
      "cell_type": "markdown",
      "metadata": {
        "id": "r52fAeOtoYFA"
      },
      "source": [
        "0.98% of the records in the dataset are married female workers under 30 year old that earn less than 50k per year. This is the probability that a randomly chosen record meets these criteria."
      ]
    },
    {
      "cell_type": "code",
      "metadata": {
        "id": "IeNeiWCioYcx"
      },
      "source": [],
      "execution_count": null,
      "outputs": []
    }
  ]
}